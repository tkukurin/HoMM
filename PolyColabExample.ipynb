{
  "nbformat": 4,
  "nbformat_minor": 0,
  "metadata": {
    "colab": {
      "name": "PolyColabExample.ipynb",
      "provenance": [],
      "collapsed_sections": []
    },
    "kernelspec": {
      "name": "python3",
      "display_name": "Python 3"
    },
    "language_info": {
      "name": "python"
    }
  },
  "cells": [
    {
      "cell_type": "code",
      "metadata": {
        "colab": {
          "base_uri": "https://localhost:8080/"
        },
        "id": "nT9PBTVd1e3P",
        "outputId": "2e4d1e0d-ace5-4fd2-f891-07fa1a86651f"
      },
      "source": [
        "!rm -r HoMM\n",
        "!git clone https://github.com/tkukurin/HoMM.git"
      ],
      "execution_count": 1,
      "outputs": [
        {
          "output_type": "stream",
          "text": [
            "Cloning into 'HoMM'...\n",
            "remote: Enumerating objects: 763, done.\u001b[K\n",
            "remote: Counting objects:   0% (1/260)\u001b[K\rremote: Counting objects:   1% (3/260)\u001b[K\rremote: Counting objects:   2% (6/260)\u001b[K\rremote: Counting objects:   3% (8/260)\u001b[K\rremote: Counting objects:   4% (11/260)\u001b[K\rremote: Counting objects:   5% (13/260)\u001b[K\rremote: Counting objects:   6% (16/260)\u001b[K\rremote: Counting objects:   7% (19/260)\u001b[K\rremote: Counting objects:   8% (21/260)\u001b[K\rremote: Counting objects:   9% (24/260)\u001b[K\rremote: Counting objects:  10% (26/260)\u001b[K\rremote: Counting objects:  11% (29/260)\u001b[K\rremote: Counting objects:  12% (32/260)\u001b[K\rremote: Counting objects:  13% (34/260)\u001b[K\rremote: Counting objects:  14% (37/260)\u001b[K\rremote: Counting objects:  15% (39/260)\u001b[K\rremote: Counting objects:  16% (42/260)\u001b[K\rremote: Counting objects:  17% (45/260)\u001b[K\rremote: Counting objects:  18% (47/260)\u001b[K\rremote: Counting objects:  19% (50/260)\u001b[K\rremote: Counting objects:  20% (52/260)\u001b[K\rremote: Counting objects:  21% (55/260)\u001b[K\rremote: Counting objects:  22% (58/260)\u001b[K\rremote: Counting objects:  23% (60/260)\u001b[K\rremote: Counting objects:  24% (63/260)\u001b[K\rremote: Counting objects:  25% (65/260)\u001b[K\rremote: Counting objects:  26% (68/260)\u001b[K\rremote: Counting objects:  27% (71/260)\u001b[K\rremote: Counting objects:  28% (73/260)\u001b[K\rremote: Counting objects:  29% (76/260)\u001b[K\rremote: Counting objects:  30% (78/260)\u001b[K\rremote: Counting objects:  31% (81/260)\u001b[K\rremote: Counting objects:  32% (84/260)\u001b[K\rremote: Counting objects:  33% (86/260)\u001b[K\rremote: Counting objects:  34% (89/260)\u001b[K\rremote: Counting objects:  35% (91/260)\u001b[K\rremote: Counting objects:  36% (94/260)\u001b[K\rremote: Counting objects:  37% (97/260)\u001b[K\rremote: Counting objects:  38% (99/260)\u001b[K\rremote: Counting objects:  39% (102/260)\u001b[K\rremote: Counting objects:  40% (104/260)\u001b[K\rremote: Counting objects:  41% (107/260)\u001b[K\rremote: Counting objects:  42% (110/260)\u001b[K\rremote: Counting objects:  43% (112/260)\u001b[K\rremote: Counting objects:  44% (115/260)\u001b[K\rremote: Counting objects:  45% (117/260)\u001b[K\rremote: Counting objects:  46% (120/260)\u001b[K\rremote: Counting objects:  47% (123/260)\u001b[K\rremote: Counting objects:  48% (125/260)\u001b[K\rremote: Counting objects:  49% (128/260)\u001b[K\rremote: Counting objects:  50% (130/260)\u001b[K\rremote: Counting objects:  51% (133/260)\u001b[K\rremote: Counting objects:  52% (136/260)\u001b[K\rremote: Counting objects:  53% (138/260)\u001b[K\rremote: Counting objects:  54% (141/260)\u001b[K\rremote: Counting objects:  55% (143/260)\u001b[K\rremote: Counting objects:  56% (146/260)\u001b[K\rremote: Counting objects:  57% (149/260)\u001b[K\rremote: Counting objects:  58% (151/260)\u001b[K\rremote: Counting objects:  59% (154/260)\u001b[K\rremote: Counting objects:  60% (156/260)\u001b[K\rremote: Counting objects:  61% (159/260)\u001b[K\rremote: Counting objects:  62% (162/260)\u001b[K\rremote: Counting objects:  63% (164/260)\u001b[K\rremote: Counting objects:  64% (167/260)\u001b[K\rremote: Counting objects:  65% (169/260)\u001b[K\rremote: Counting objects:  66% (172/260)\u001b[K\rremote: Counting objects:  67% (175/260)\u001b[K\rremote: Counting objects:  68% (177/260)\u001b[K\rremote: Counting objects:  69% (180/260)\u001b[K\rremote: Counting objects:  70% (182/260)\u001b[K\rremote: Counting objects:  71% (185/260)\u001b[K\rremote: Counting objects:  72% (188/260)\u001b[K\rremote: Counting objects:  73% (190/260)\u001b[K\rremote: Counting objects:  74% (193/260)\u001b[K\rremote: Counting objects:  75% (195/260)\u001b[K\rremote: Counting objects:  76% (198/260)\u001b[K\rremote: Counting objects:  77% (201/260)\u001b[K\rremote: Counting objects:  78% (203/260)\u001b[K\rremote: Counting objects:  79% (206/260)\u001b[K\rremote: Counting objects:  80% (208/260)\u001b[K\rremote: Counting objects:  81% (211/260)\u001b[K\rremote: Counting objects:  82% (214/260)\u001b[K\rremote: Counting objects:  83% (216/260)\u001b[K\rremote: Counting objects:  84% (219/260)\u001b[K\rremote: Counting objects:  85% (221/260)\u001b[K\rremote: Counting objects:  86% (224/260)\u001b[K\rremote: Counting objects:  87% (227/260)\u001b[K\rremote: Counting objects:  88% (229/260)\u001b[K\rremote: Counting objects:  89% (232/260)\u001b[K\rremote: Counting objects:  90% (234/260)\u001b[K\rremote: Counting objects:  91% (237/260)\u001b[K\rremote: Counting objects:  92% (240/260)\u001b[K\rremote: Counting objects:  93% (242/260)\u001b[K\rremote: Counting objects:  94% (245/260)\u001b[K\rremote: Counting objects:  95% (247/260)\u001b[K\rremote: Counting objects:  96% (250/260)\u001b[K\rremote: Counting objects:  97% (253/260)\u001b[K\rremote: Counting objects:  98% (255/260)\u001b[K\rremote: Counting objects:  99% (258/260)\u001b[K\rremote: Counting objects: 100% (260/260)\u001b[K\rremote: Counting objects: 100% (260/260), done.\u001b[K\n",
            "remote: Compressing objects:   0% (1/158)\u001b[K\rremote: Compressing objects:   1% (2/158)\u001b[K\rremote: Compressing objects:   2% (4/158)\u001b[K\rremote: Compressing objects:   3% (5/158)\u001b[K\rremote: Compressing objects:   4% (7/158)\u001b[K\rremote: Compressing objects:   5% (8/158)\u001b[K\rremote: Compressing objects:   6% (10/158)\u001b[K\rremote: Compressing objects:   7% (12/158)\u001b[K\rremote: Compressing objects:   8% (13/158)\u001b[K\rremote: Compressing objects:   9% (15/158)\u001b[K\rremote: Compressing objects:  10% (16/158)\u001b[K\rremote: Compressing objects:  11% (18/158)\u001b[K\rremote: Compressing objects:  12% (19/158)\u001b[K\rremote: Compressing objects:  13% (21/158)\u001b[K\rremote: Compressing objects:  14% (23/158)\u001b[K\rremote: Compressing objects:  15% (24/158)\u001b[K\rremote: Compressing objects:  16% (26/158)\u001b[K\rremote: Compressing objects:  17% (27/158)\u001b[K\rremote: Compressing objects:  18% (29/158)\u001b[K\rremote: Compressing objects:  19% (31/158)\u001b[K\rremote: Compressing objects:  20% (32/158)\u001b[K\rremote: Compressing objects:  21% (34/158)\u001b[K\rremote: Compressing objects:  22% (35/158)\u001b[K\rremote: Compressing objects:  23% (37/158)\u001b[K\rremote: Compressing objects:  24% (38/158)\u001b[K\rremote: Compressing objects:  25% (40/158)\u001b[K\rremote: Compressing objects:  26% (42/158)\u001b[K\rremote: Compressing objects:  27% (43/158)\u001b[K\rremote: Compressing objects:  28% (45/158)\u001b[K\rremote: Compressing objects:  29% (46/158)\u001b[K\rremote: Compressing objects:  30% (48/158)\u001b[K\rremote: Compressing objects:  31% (49/158)\u001b[K\rremote: Compressing objects:  32% (51/158)\u001b[K\rremote: Compressing objects:  33% (53/158)\u001b[K\rremote: Compressing objects:  34% (54/158)\u001b[K\rremote: Compressing objects:  35% (56/158)\u001b[K\rremote: Compressing objects:  36% (57/158)\u001b[K\rremote: Compressing objects:  37% (59/158)\u001b[K\rremote: Compressing objects:  38% (61/158)\u001b[K\rremote: Compressing objects:  39% (62/158)\u001b[K\rremote: Compressing objects:  40% (64/158)\u001b[K\rremote: Compressing objects:  41% (65/158)\u001b[K\rremote: Compressing objects:  42% (67/158)\u001b[K\rremote: Compressing objects:  43% (68/158)\u001b[K\rremote: Compressing objects:  44% (70/158)\u001b[K\rremote: Compressing objects:  45% (72/158)\u001b[K\rremote: Compressing objects:  46% (73/158)\u001b[K\rremote: Compressing objects:  47% (75/158)\u001b[K\rremote: Compressing objects:  48% (76/158)\u001b[K\rremote: Compressing objects:  49% (78/158)\u001b[K\rremote: Compressing objects:  50% (79/158)\u001b[K\rremote: Compressing objects:  51% (81/158)\u001b[K\rremote: Compressing objects:  52% (83/158)\u001b[K\rremote: Compressing objects:  53% (84/158)\u001b[K\rremote: Compressing objects:  54% (86/158)\u001b[K\rremote: Compressing objects:  55% (87/158)\u001b[K\rremote: Compressing objects:  56% (89/158)\u001b[K\rremote: Compressing objects:  57% (91/158)\u001b[K\rremote: Compressing objects:  58% (92/158)\u001b[K\rremote: Compressing objects:  59% (94/158)\u001b[K\rremote: Compressing objects:  60% (95/158)\u001b[K\rremote: Compressing objects:  61% (97/158)\u001b[K\rremote: Compressing objects:  62% (98/158)\u001b[K\rremote: Compressing objects:  63% (100/158)\u001b[K\rremote: Compressing objects:  64% (102/158)\u001b[K\rremote: Compressing objects:  65% (103/158)\u001b[K\rremote: Compressing objects:  66% (105/158)\u001b[K\rremote: Compressing objects:  67% (106/158)\u001b[K\rremote: Compressing objects:  68% (108/158)\u001b[K\rremote: Compressing objects:  69% (110/158)\u001b[K\rremote: Compressing objects:  70% (111/158)\u001b[K\rremote: Compressing objects:  71% (113/158)\u001b[K\rremote: Compressing objects:  72% (114/158)\u001b[K\rremote: Compressing objects:  73% (116/158)\u001b[K\rremote: Compressing objects:  74% (117/158)\u001b[K\rremote: Compressing objects:  75% (119/158)\u001b[K\rremote: Compressing objects:  76% (121/158)\u001b[K\rremote: Compressing objects:  77% (122/158)\u001b[K\rremote: Compressing objects:  78% (124/158)\u001b[K\rremote: Compressing objects:  79% (125/158)\u001b[K\rremote: Compressing objects:  80% (127/158)\u001b[K\rremote: Compressing objects:  81% (128/158)\u001b[K\rremote: Compressing objects:  82% (130/158)\u001b[K\rremote: Compressing objects:  83% (132/158)\u001b[K\rremote: Compressing objects:  84% (133/158)\u001b[K\rremote: Compressing objects:  85% (135/158)\u001b[K\rremote: Compressing objects:  86% (136/158)\u001b[K\rremote: Compressing objects:  87% (138/158)\u001b[K\rremote: Compressing objects:  88% (140/158)\u001b[K\rremote: Compressing objects:  89% (141/158)\u001b[K\rremote: Compressing objects:  90% (143/158)\u001b[K\rremote: Compressing objects:  91% (144/158)\u001b[K\rremote: Compressing objects:  92% (146/158)\u001b[K\rremote: Compressing objects:  93% (147/158)\u001b[K\rremote: Compressing objects:  94% (149/158)\u001b[K\rremote: Compressing objects:  95% (151/158)\u001b[K\rremote: Compressing objects:  96% (152/158)\u001b[K\rremote: Compressing objects:  97% (154/158)\u001b[K\rremote: Compressing objects:  98% (155/158)\u001b[K\rremote: Compressing objects:  99% (157/158)\u001b[K\rremote: Compressing objects: 100% (158/158)\u001b[K\rremote: Compressing objects: 100% (158/158), done.\u001b[K\n",
            "Receiving objects:   0% (1/763)   \rReceiving objects:   1% (8/763)   \rReceiving objects:   2% (16/763)   \rReceiving objects:   3% (23/763)   \rReceiving objects:   4% (31/763)   \rReceiving objects:   5% (39/763)   \rReceiving objects:   6% (46/763)   \rReceiving objects:   7% (54/763)   \rReceiving objects:   8% (62/763)   \rReceiving objects:   9% (69/763)   \rReceiving objects:  10% (77/763)   \rReceiving objects:  11% (84/763)   \rReceiving objects:  12% (92/763)   \rReceiving objects:  13% (100/763)   \rReceiving objects:  14% (107/763)   \rReceiving objects:  15% (115/763)   \rReceiving objects:  16% (123/763)   \rReceiving objects:  17% (130/763)   \rReceiving objects:  18% (138/763)   \rReceiving objects:  19% (145/763)   \rReceiving objects:  20% (153/763)   \rReceiving objects:  21% (161/763)   \rReceiving objects:  22% (168/763)   \rReceiving objects:  23% (176/763)   \rReceiving objects:  24% (184/763)   \rReceiving objects:  25% (191/763)   \rReceiving objects:  26% (199/763)   \rReceiving objects:  27% (207/763)   \rReceiving objects:  28% (214/763)   \rReceiving objects:  29% (222/763)   \rReceiving objects:  30% (229/763)   \rReceiving objects:  31% (237/763)   \rReceiving objects:  32% (245/763)   \rReceiving objects:  33% (252/763)   \rReceiving objects:  34% (260/763)   \rReceiving objects:  35% (268/763)   \rReceiving objects:  36% (275/763)   \rReceiving objects:  37% (283/763)   \rReceiving objects:  38% (290/763)   \rReceiving objects:  39% (298/763)   \rReceiving objects:  40% (306/763)   \rReceiving objects:  41% (313/763)   \rReceiving objects:  42% (321/763)   \rReceiving objects:  43% (329/763)   \rReceiving objects:  44% (336/763)   \rReceiving objects:  45% (344/763)   \rReceiving objects:  46% (351/763)   \rReceiving objects:  47% (359/763)   \rReceiving objects:  48% (367/763)   \rReceiving objects:  49% (374/763)   \rReceiving objects:  50% (382/763)   \rReceiving objects:  51% (390/763)   \rReceiving objects:  52% (397/763)   \rReceiving objects:  53% (405/763)   \rReceiving objects:  54% (413/763)   \rReceiving objects:  55% (420/763)   \rReceiving objects:  56% (428/763)   \rReceiving objects:  57% (435/763)   \rReceiving objects:  58% (443/763)   \rReceiving objects:  59% (451/763)   \rReceiving objects:  60% (458/763)   \rReceiving objects:  61% (466/763)   \rReceiving objects:  62% (474/763)   \rReceiving objects:  63% (481/763)   \rReceiving objects:  64% (489/763)   \rReceiving objects:  65% (496/763)   \rReceiving objects:  66% (504/763)   \rReceiving objects:  67% (512/763)   \rReceiving objects:  68% (519/763)   \rReceiving objects:  69% (527/763)   \rReceiving objects:  70% (535/763)   \rReceiving objects:  71% (542/763)   \rReceiving objects:  72% (550/763)   \rReceiving objects:  73% (557/763)   \rReceiving objects:  74% (565/763)   \rReceiving objects:  75% (573/763)   \rReceiving objects:  76% (580/763)   \rReceiving objects:  77% (588/763)   \rReceiving objects:  78% (596/763)   \rReceiving objects:  79% (603/763)   \rReceiving objects:  80% (611/763)   \rReceiving objects:  81% (619/763)   \rReceiving objects:  82% (626/763)   \rReceiving objects:  83% (634/763)   \rReceiving objects:  84% (641/763)   \rReceiving objects:  85% (649/763)   \rremote: Total 763 (delta 126), reused 231 (delta 102), pack-reused 503\u001b[K\n",
            "Receiving objects: 100% (763/763), 198.41 KiB | 6.01 MiB/s, done.\n",
            "Resolving deltas: 100% (369/369), done.\n"
          ],
          "name": "stdout"
        }
      ]
    },
    {
      "cell_type": "code",
      "metadata": {
        "colab": {
          "base_uri": "https://localhost:8080/"
        },
        "id": "nQhSJT_U3KyL",
        "outputId": "5a551fc9-1e79-48e9-944a-103bb93ba75b"
      },
      "source": [
        "import sys  # haxx so github imported stuff works\n",
        "\n",
        "def _haxx(x):\n",
        "  if x not in sys.path:\n",
        "    sys.path.append(x)\n",
        "\n",
        "_haxx('HoMM')\n",
        "from HoMM import HoMM_model\n",
        "\n",
        "_haxx('HoMM/examples')\n",
        "import polynomials"
      ],
      "execution_count": 2,
      "outputs": [
        {
          "output_type": "stream",
          "text": [
            "WARNING:tensorflow:From /usr/local/lib/python3.7/dist-packages/tensorflow/python/compat/v2_compat.py:96: disable_resource_variables (from tensorflow.python.ops.variable_scope) is deprecated and will be removed in a future version.\n",
            "Instructions for updating:\n",
            "non-resource variables are not supported in the long term\n"
          ],
          "name": "stdout"
        }
      ]
    },
    {
      "cell_type": "code",
      "metadata": {
        "id": "6nZ9vYze21i7"
      },
      "source": [
        "%load_ext autoreload\n",
        "%autoreload 2"
      ],
      "execution_count": 3,
      "outputs": []
    },
    {
      "cell_type": "code",
      "metadata": {
        "id": "ev98307h3IPc"
      },
      "source": [
        "import numpy as np\n",
        "\n",
        "import functools as ft\n",
        "import itertools as it\n",
        "import copy\n",
        "\n",
        "import numpy as np\n",
        "import tensorflow as tf\n",
        "\n",
        "import re"
      ],
      "execution_count": 4,
      "outputs": []
    },
    {
      "cell_type": "markdown",
      "metadata": {
        "id": "3i-QUeSaxmzz"
      },
      "source": [
        "# C/p of example"
      ]
    },
    {
      "cell_type": "code",
      "metadata": {
        "colab": {
          "base_uri": "https://localhost:8080/"
        },
        "id": "8l1GHQls8S23",
        "outputId": "2afec42e-de50-48b5-e59d-268f81366ea1"
      },
      "source": [
        "from HoMM import HoMM_model\n",
        "from HoMM.configs import default_run_config, default_architecture_config\n",
        "\n",
        "run_config = {\n",
        "  **default_run_config.default_run_config,\n",
        "  \"output_dir\": \"/data2/lampinen/polynomials_results/\",\n",
        "  \n",
        "  \"num_base_train_tasks\": 60, # prior to meta-augmentation\n",
        "  \"num_base_eval_tasks\": 40, # prior to meta-augmentation\n",
        "\n",
        "  \"num_variables\": 4,\n",
        "  \"max_degree\": 2,\n",
        "  \"poly_coeff_sd\": 2.5,\n",
        "  \"point_val_range\": 1,\n",
        "\n",
        "  \"meta_add_vals\": [-3, -1, 1, 3],\n",
        "  \"meta_mult_vals\": [-3, -1, 3],\n",
        "  \"new_meta_tasks\": [],\n",
        "  \"new_meta_mappings\": [\"add_%f\" % 2., \"add_%f\" % -2., \"mult_%f\" % 2., \"mult_%f\" % -2.],\n",
        "\n",
        "  \"run_offset\": 2,\n",
        "  \"num_runs\": 3,\n",
        "  \n",
        "  \"num_epochs\": 5000,\n",
        "}\n",
        "\n",
        "architecture_config = {\n",
        "  **default_architecture_config.default_architecture_config,\n",
        "  \"task_conditioned_not_hyper\": False,\n",
        "}\n",
        "\n",
        "\n",
        "class poly_HoMM_model(HoMM_model.HoMM_model):\n",
        "  def __init__(self, run_config=None):\n",
        "    super(poly_HoMM_model, self).__init__(\n",
        "      architecture_config=architecture_config, run_config=run_config)\n",
        "\n",
        "  def _pre_build_calls(self):\n",
        "    # set up the base tasks\n",
        "    poly_fam = polynomials.polynomial_family(\n",
        "      self.run_config[\"num_variables\"], self.run_config[\"max_degree\"])\n",
        "    self.run_config[\"variables\"] = poly_fam.variables\n",
        "\n",
        "    self.base_train_tasks = [\n",
        "     poly_fam.sample_polynomial(coefficient_sd=self.run_config[\"poly_coeff_sd\"])\n",
        "     for _ in range(self.run_config[\"num_base_train_tasks\"])\n",
        "    ]\n",
        "    self.base_eval_tasks = [\n",
        "     poly_fam.sample_polynomial(coefficient_sd=self.run_config[\"poly_coeff_sd\"])\n",
        "     for _ in range(self.run_config[\"num_base_eval_tasks\"])\n",
        "    ]\n",
        "\n",
        "    # set up the meta tasks\n",
        "\n",
        "    self.meta_class_train_tasks = [\n",
        "     \"is_constant_polynomial\", \"is_intercept_nonzero\", \n",
        "     *[f\"is_{var}_relevant\" for var in self.run_config[\"variables\"]]\n",
        "    ]\n",
        "    self.meta_class_eval_tasks = [] \n",
        "\n",
        "    add = [f\"add_{c}\" for c in self.run_config[\"meta_add_vals\"]]\n",
        "    mul = [f\"mult_{c}\" for c in self.run_config[\"meta_mult_vals\"]]\n",
        "    self.meta_map_train_tasks = [\"square\"] + add + mul\n",
        "    self.meta_map_eval_tasks = self.run_config[\"new_meta_mappings\"] \n",
        "\n",
        "    permutation_mappings = [\n",
        "     \"permute_\" + \"\".join(map(str, p))\n",
        "     for p in it.permutations(range(self.run_config[\"num_variables\"]))\n",
        "    ]\n",
        "\n",
        "    np.random.seed(0)\n",
        "    np.random.shuffle(permutation_mappings)\n",
        "    self.meta_map_train_tasks += permutation_mappings[:len(permutation_mappings)//2]\n",
        "    self.meta_map_eval_tasks += permutation_mappings[len(permutation_mappings)//2:]\n",
        "\n",
        "    # set up language\n",
        "\n",
        "    #vocab = ['PAD'] + [str(x) for x in range(10)] + [\".\", \"+\", \"-\", \"^\"] + poly_fam.variables\n",
        "    #vocab_to_int = dict(zip(vocab, range(len(vocab))))\n",
        "    #\n",
        "    #self.run_config[\"vocab\"] = vocab\n",
        "\n",
        "    # set up the meta pairings \n",
        "    self.meta_pairings, implied_tasks_train_tasks, implied_tasks_eval_tasks = polynomials.get_meta_pairings(\n",
        "      base_train_tasks=self.base_train_tasks,\n",
        "      base_eval_tasks=self.base_eval_tasks,\n",
        "      meta_class_train_tasks=self.meta_class_train_tasks,\n",
        "      meta_class_eval_tasks=self.meta_class_eval_tasks,\n",
        "      meta_map_train_tasks=self.meta_map_train_tasks,\n",
        "      meta_map_eval_tasks=self.meta_map_eval_tasks) \n",
        "\n",
        "    # add the base tasks implied by the mappings\n",
        "    self.base_train_tasks += implied_tasks_train_tasks\n",
        "\n",
        "    # in general, we want evaluation to be of ability to metamap a trained\n",
        "    # task to a held-out one, so we move the meta-mapping eval sources to\n",
        "    # train, and use the implied tasks as eval\n",
        "    self.base_train_tasks += self.base_eval_tasks \n",
        "    self.base_eval_tasks = implied_tasks_eval_tasks\n",
        "\n",
        "  def fill_buffers(self, num_data_points=1):\n",
        "    \"\"\"Add new \"experiences\" to memory buffers.\"\"\"\n",
        "    this_tasks = self.base_train_tasks + self.base_eval_tasks \n",
        "    for t in this_tasks:\n",
        "      buff = self.memory_buffers[polynomials.stringify_polynomial(t)]\n",
        "      x_data = np.zeros([num_data_points] + self.architecture_config[\"input_shape\"])\n",
        "      y_data = np.zeros([num_data_points] + self.architecture_config[\"output_shape\"])\n",
        "      for point_i in range(num_data_points):\n",
        "        point = t.family.sample_point(val_range=self.run_config[\"point_val_range\"])\n",
        "        x_data[point_i, :] = point\n",
        "        y_data[point_i, :] = t.evaluate(point)\n",
        "      buff.insert(x_data, y_data)\n",
        "\n",
        "  def intify_task(self, task):\n",
        "    if task == \"square\":\n",
        "      return [vocab_to_int[task]]\n",
        "    elif task[:3] == \"add\":\n",
        "      val = str(int(round(float(task[4:]))))\n",
        "      return [vocab_to_int[\"add\"]] + [vocab_to_int[x] for x in val]\n",
        "    elif task[:4] == \"mult\":\n",
        "      val = str(int(round(float(task[5:]))))\n",
        "      return [vocab_to_int[\"mult\"]] + [vocab_to_int[x] for x in val]\n",
        "    elif task[:7] == \"permute\":\n",
        "      val = task[8:]\n",
        "      return [vocab_to_int[\"permute\"]] + [vocab_to_int[x] for x in val]\n",
        "    elif task[:3] == \"is_\":\n",
        "      if task[3] == \"X\":\n",
        "        return [vocab_to_int[x] for x in task.split('_')] \n",
        "      else:\n",
        "        return [vocab_to_int[\"is\"], vocab_to_int[task[3:]]]\n",
        "    else:\n",
        "      raise ValueError(\"Unrecognized meta task: %s\" % task)\n",
        "\n",
        "\n",
        "offset = run_config[\"run_offset\"]\n",
        "n = run_config[\"num_runs\"]\n",
        "for run_i in range(offset, offset + n):\n",
        "  np.random.seed(run_i)\n",
        "  tf.random.set_seed(run_i)\n",
        "  run_config[\"this_run\"] = run_i\n",
        "\n",
        "  model = poly_HoMM_model(run_config=run_config)\n",
        "  model.run_training()\n",
        "\n",
        "  tf.reset_default_graph()"
      ],
      "execution_count": null,
      "outputs": [
        {
          "output_type": "stream",
          "text": [
            "Starting run 2 of /data2/lampinen/polynomials_results/\n"
          ],
          "name": "stdout"
        },
        {
          "output_type": "stream",
          "text": [
            "/usr/local/lib/python3.7/dist-packages/tensorflow/python/keras/engine/base_layer_v1.py:1692: UserWarning: `layer.apply` is deprecated and will be removed in a future version. Please use `layer.__call__` method instead.\n",
            "  warnings.warn('`layer.apply` is deprecated and '\n"
          ],
          "name": "stderr"
        },
        {
          "output_type": "stream",
          "text": [
            "WARNING:tensorflow:From /usr/local/lib/python3.7/dist-packages/tensorflow/python/util/dispatch.py:206: calling reduce_max_v1 (from tensorflow.python.ops.math_ops) with keep_dims is deprecated and will be removed in a future version.\n",
            "Instructions for updating:\n",
            "keep_dims is deprecated, use keepdims instead\n",
            "0, 0.002384, 0.740195, 16.430767, 0.424354, 2.603928, 0.148042, 26.502865, 2.282110, 0.893393, 3.326874, 15.668917, 1.598328, 0.182250, 21.950197, 2.382319, 4.480787, 2.377062, 10.669199, 3.891226, 5.188591, 0.357832, 1.664736, 3.440365, 3.942622, 6.213111, 4.045290, 5.982134, 4.465858, 21.211182, 1.630417, 10.109174, 2.196126, 1.321166, 2.543421, 1.117290, 11.223800, 4.158557, 10.397460, 12.099381, 39.626087, 12.839933, 12.668077, 4.894108, 3.322295, 22.830364, 11.651661, 7.742769, 0.146165, 1.233983, 5.726868, 6.013631, 4.880062, 2.732149, 5.992162, 4.195365, 2.474986, 4.097885, 0.099337, 15.159775, 10.187566, 0.000105, 674.296570, 0.022779, 2.784542, 5.539401, 17.420597, 2.693572, 12.713852, 480.835419, 2.884979, 109.386856, 14.920521, 6.291725, 1.214071, 106.109261, 143.787659, 514.025391, 4.153897, 38.773705, 0.010127, 246.605225, 9.060003, 9.478893, 47.852577, 8.252814, 15.394958, 6.631051, 10.115807, 9.727767, 11.067993, 13.957868, 48.315414, 17.848835, 9.822372, 53.958382, 2.096741, 15.318108, 10.739729, 38.388237, 19.471226, 16.252537, 11.148258, 2.888182, 23.154207, 15.041439, 12.079933, 5.086874, 4.826982, 14.668749, 57.277534, 17.921251, 37.687889, 10.959678, 15.321297, 1.956925, 3.705433, 37.518776, 12.842728, 0.043099, 0.214220, 81.502243, 38.560188, 21.694118, 6.942565, 17.959381, 3.115392, 18.735600, 27.380627, 9.452835, 7.116085, 26.196850, 29.243288, 14.332302, 11.448542, 15.616364, 6.889341, 17.496273, 18.778221, 7.038545, 47.002373, 9.305698, 1.074440, 1.698080, 24.616940, 1.067067, 5.220829, 0.371870, 18.004333, 2.900695, 2.323149, 4.632627, 24.252752, 5.089591, 1.480053, 28.894176, 0.287613, 5.747085, 3.343105, 18.131790, 7.606206, 7.478858, 1.952036, 0.082265, 8.062716, 6.220281, 6.724290, 2.271620, 3.145604, 6.054922, 31.279058, 5.108634, 17.351925, 3.400126, 3.946990, 0.348783, 0.003070, 18.133902, 4.634857, 4.923826, 6.110940, 50.588623, 20.092087, 13.739347, 3.886626, 6.404932, 14.270504, 11.574742, 11.455820, 1.307596, 1.325726, 10.847812, 11.817399, 6.321296, 3.672551, 7.693525, 3.214492, 5.788376, 6.530018, 0.460633, 23.818327, 7.909932, 0.913185, 1.798290, 11.517071, 1.691965, 3.151208, 1.941924, 38.483696, 3.410900, 1.389852, 3.679457, 10.228735, 0.076578, 0.854216, 15.019332, 6.499106, 4.100646, 3.534115, 5.599564, 3.707606, 5.460275, 0.671781, 5.266356, 0.749767, 4.317563, 7.715452, 7.917902, 10.245022, 4.570267, 13.064683, 0.083203, 4.799408, 3.333826, 0.774272, 6.744996, 4.260677, 6.066247, 5.757807, 17.861031, 20.070761, 29.832592, 8.234575, 14.951997, 8.780289, 2.406780, 33.468594, 12.784048, 4.527654, 0.950686, 3.349882, 2.795551, 2.147390, 5.434116, 3.831961, 7.668854, 6.903378, 1.842638, 3.460726, 1.746956, 8.459749, 13.650526, 8.785990, 9.877777, 6.330133, 10.929394, 7.956881, 11.590190, 66.452011, 12.356104, 8.508421, 10.261275, 3.007453, 2.982662, 8.336430, 6.675870, 20.776331, 10.222778, 11.306678, 0.734407, 6.321755, 11.141825, 7.433948, 18.501223, 1.277932, 10.371887, 16.486023, 20.694902, 25.509377, 11.089508, 2.700913, 2.954224, 0.046756, 11.540937, 5.654024, 21.270761, 16.552679, 2.278856, 14.014996, 38.892342, 42.051849, 13.484919, 5.228189, 25.850199, 20.061857, 6.447011, 60.709457, 21.838427, 4.751554, 8.641365, 13.194176, 3.128262, 0.271188, 12.955107, 11.766446, 15.514521, 17.835566, 5.758300, 7.438601, 11.099237, 0.877178, 29.486605, 0.031683, 7.445050, 174.339661, 3.758114, 26.833086, 1.266021, 227.863586, 19.068760, 9.186634, 31.086185, 154.710876, 15.088260, 1.695218, 201.125931, 20.453371, 38.798477, 20.333885, 104.337112, 41.211948, 48.940491, 3.443395, 14.197191, 32.270638, 37.984997, 57.560474, 38.845116, 48.297668, 39.678066, 198.515656, 15.349564, 94.634315, 21.175724, 13.846746, 21.814199, 9.539000, 103.944763, 43.148399, 89.762535, 104.481949, 357.923401, 123.884880, 117.363800, 39.571575, 29.121662, 197.823227, 99.330673, 63.106716, 1.257823, 10.963958, 50.065910, 56.312561, 41.579185, 24.200508, 57.701927, 32.851395, 26.690851, 32.247097, 0.812317, 142.044815, 85.001160, 0.004063, 0.868207, 18.852499, 0.430989, 3.086118, 0.135441, 25.939390, 2.435360, 0.922927, 3.213069, 17.255234, 1.693001, 0.193464, 22.480827, 2.260154, 4.259305, 2.528146, 11.468403, 5.361745, 5.138806, 0.362007, 1.576296, 3.617217, 3.729722, 5.848713, 4.050288, 5.236733, 4.441783, 22.083241, 1.718054, 10.528404, 2.411420, 1.486539, 2.414907, 1.058090, 12.400970, 4.493147, 9.953554, 11.582097, 42.778240, 15.170317, 12.948750, 5.192894, 3.427233, 21.936649, 11.882290, 6.875393, 0.143927, 1.202586, 6.213974, 6.291725, 5.090690, 2.928350, 6.812607, 3.861748, 2.939754, 4.141268, 0.087207, 15.828075, 9.438835, 0.027875, 7.540883, 157.797775, 3.721419, 25.072083, 1.335286, 239.043610, 19.614697, 7.880468, 31.303999, 139.274353, 14.477844, 1.635805, 201.080276, 21.270761, 35.097740, 21.101517, 96.831558, 40.847557, 45.351028, 3.157749, 14.812621, 31.009186, 35.308113, 54.606140, 34.334419, 50.873306, 38.942364, 191.308350, 14.703295, 91.126938, 18.880394, 12.738063, 22.749025, 9.939394, 97.221939, 37.619534, 93.167442, 108.472664, 352.925781, 118.183762, 119.008270, 45.820034, 32.934952, 205.219742, 109.326927, 64.425095, 1.110284, 10.391331, 51.434776, 54.224125, 40.730072, 23.770691, 60.858925, 35.573097, 26.586992, 38.268929, 0.862521, 136.924789, 98.138901, 0.002384, 0.877154, 18.201979, 0.462641, 2.926395, 0.148042, 28.786900, 2.382169, 0.866536, 3.300505, 16.588177, 1.598328, 0.185170, 22.590839, 2.382319, 4.070137, 2.217996, 10.652847, 4.291415, 5.093126, 0.357832, 1.664736, 3.440365, 4.203253, 5.943563, 4.185257, 6.111440, 4.620686, 21.211182, 1.630417, 10.109174, 2.460706, 1.315943, 2.543421, 1.117290, 11.047724, 4.984134, 10.397460, 12.099381, 38.969925, 12.759546, 13.173422, 4.796147, 3.458111, 22.830364, 11.124406, 7.004634, 0.136458, 1.285676, 5.576957, 6.013631, 4.603610, 2.920801, 6.417568, 4.110686, 2.712451, 4.190798, 0.099337, 15.159775, 9.865945, 0.002384, 0.831148, 18.190704, 0.433525, 3.046640, 0.148042, 26.190512, 2.382169, 0.936291, 3.364997, 16.655075, 1.598328, 0.173212, 22.590839, 2.382319, 4.498579, 2.217996, 10.811211, 4.686126, 4.942329, 0.282363, 1.664736, 3.440365, 3.846592, 6.078325, 3.776807, 5.358140, 4.335742, 21.211182, 1.630417, 10.109174, 2.460706, 1.453760, 2.543421, 1.117290, 11.267847, 4.815423, 10.397460, 12.099381, 39.925850, 14.173420, 13.294847, 4.877798, 3.268692, 22.830364, 12.135509, 7.250317, 0.136458, 1.285676, 5.609596, 6.013631, 4.657248, 2.745478, 6.372351, 3.771622, 2.802882, 3.787910, 0.099337, 15.159775, 9.618913, 0.002384, 0.868330, 17.559847, 0.431795, 2.924768, 0.148042, 27.568428, 2.539512, 0.993483, 3.542417, 16.357578, 1.598328, 0.171096, 22.264942, 2.382319, 3.839084, 2.279494, 10.673496, 4.406524, 5.180683, 0.282363, 1.664736, 3.440365, 4.196224, 5.660594, 4.134342, 5.949711, 4.448893, 21.211182, 1.630417, 10.109174, 2.246893, 1.438026, 2.543421, 1.117290, 10.748756, 4.659174, 10.397460, 12.099381, 37.571243, 12.926790, 11.692283, 5.243003, 3.515872, 22.830364, 11.209705, 7.087410, 0.128413, 1.272754, 6.095841, 6.013631, 4.449282, 2.624707, 6.194700, 4.099903, 2.815816, 3.996360, 0.099337, 15.159775, 9.646866, 0.002384, 0.793195, 17.778919, 0.418239, 2.834948, 0.148042, 26.225828, 2.328388, 0.971625, 3.367604, 16.785719, 1.598328, 0.215162, 22.507744, 2.382319, 3.929435, 2.331563, 10.669199, 4.371386, 4.431746, 0.282363, 1.664736, 3.440365, 3.690870, 5.823707, 4.054134, 5.604364, 4.505116, 21.211182, 1.630417, 10.109174, 2.250876, 1.413334, 2.543421, 1.117290, 11.346987, 4.508818, 10.397460, 12.099381, 39.126694, 12.404193, 13.575627, 4.373979, 3.395953, 22.830364, 12.021082, 6.754258, 0.130175, 1.207969, 5.989267, 6.013631, 4.683341, 3.062274, 6.264381, 4.134197, 2.876351, 4.051426, 0.099337, 15.159775, 9.601082, 0.002384, 0.802758, 17.586140, 0.431795, 2.924768, 0.148042, 26.225828, 2.313921, 0.907722, 3.294387, 16.357578, 1.598328, 0.173212, 22.264942, 2.382319, 3.923381, 2.279494, 10.664217, 4.686126, 5.167929, 0.282363, 1.664736, 3.440365, 4.115564, 6.037791, 3.885862, 5.919545, 4.658382, 21.211182, 1.630417, 10.109174, 2.246893, 1.438026, 2.543421, 1.117290, 11.043835, 4.382924, 10.397460, 12.099381, 40.417473, 12.724363, 13.936981, 4.664445, 3.131805, 22.830364, 11.148661, 6.568846, 0.144699, 1.272754, 6.006619, 6.013631, 5.059026, 2.872091, 6.225099, 3.836832, 2.792631, 4.137016, 0.099337, 15.159775, 9.601082, 0.002384, 0.868657, 17.184666, 0.438129, 3.218303, 0.148042, 27.682905, 2.282110, 0.969186, 3.715927, 16.250423, 1.598328, 0.185738, 21.950197, 2.382319, 3.587932, 2.377062, 10.664217, 4.769033, 5.104640, 0.339493, 1.664736, 3.440365, 3.621492, 5.817632, 3.678326, 5.631279, 4.125558, 21.211182, 1.630417, 10.109174, 2.196126, 1.476945, 2.543421, 1.117290, 11.137287, 3.997234, 10.397460, 12.099381, 39.843605, 12.759848, 14.205177, 4.885675, 3.517946, 22.830364, 11.289263, 6.956057, 0.146165, 1.233983, 5.773261, 6.013631, 4.754395, 2.873118, 6.628471, 3.915220, 2.807843, 4.508153, 0.099337, 15.159775, 10.177352, 0.002384, 0.805566, 18.611866, 0.432927, 2.998932, 0.148042, 26.799442, 2.302663, 0.860890, 3.180116, 16.685116, 1.598328, 0.186176, 22.507744, 2.382319, 3.927382, 2.331563, 10.736197, 4.821294, 5.184240, 0.339493, 1.664736, 3.440365, 3.883214, 6.307560, 3.685937, 5.268871, 4.506450, 21.211182, 1.630417, 10.109174, 2.250876, 1.347400, 2.543421, 1.117290, 10.648172, 4.630976, 10.397460, 12.099381, 38.847260, 13.957726, 13.908386, 5.147116, 2.876358, 22.830364, 12.077310, 7.277031, 0.144691, 1.207969, 5.553377, 6.013631, 4.722895, 2.582220, 6.271010, 4.223510, 2.754707, 4.106449, 0.099337, 15.159775, 10.160187, 0.002384, 0.817031, 18.357494, 0.424341, 2.982042, 0.148042, 26.475323, 2.539512, 0.877973, 3.170905, 15.308653, 1.598328, 0.204579, 22.264942, 2.382319, 3.899827, 2.279494, 10.602688, 4.187461, 5.416115, 0.329290, 1.664736, 3.440365, 4.030994, 6.303783, 3.757172, 5.135414, 4.532566, 21.211182, 1.630417, 10.109174, 2.246893, 1.450382, 2.543421, 1.117290, 11.216912, 4.308107, 10.397460, 12.099381, 38.831886, 13.006638, 14.367813, 4.714032, 3.045967, 22.830364, 10.542387, 7.441007, 0.128413, 1.272754, 5.696164, 6.013631, 4.948615, 2.677025, 6.473729, 4.156191, 2.919638, 3.990355, 0.099337, 15.159775, 10.370613, 0.002384, 0.803529, 18.611866, 0.418239, 2.834948, 0.148042, 26.190512, 2.357510, 0.941757, 3.180116, 16.785719, 1.598328, 0.171096, 22.507744, 2.382319, 4.011996, 2.331563, 11.174859, 4.406524, 5.037628, 0.282363, 1.664736, 3.440365, 3.654017, 5.933594, 3.937385, 5.268871, 4.506450, 21.211182, 1.630417, 10.109174, 2.250876, 1.413334, 2.543421, 1.117290, 11.238264, 4.434331, 10.397460, 12.099381, 39.637833, 12.164160, 13.093960, 4.907753, 3.538555, 22.830364, 11.606686, 7.093748, 0.148083, 1.207969, 5.752116, 6.013631, 4.753398, 2.662376, 6.386716, 4.052289, 2.719543, 4.003116, 0.099337, 15.159775, 9.618913, 0.002384, 0.825200, 17.722723, 0.433525, 3.046640, 0.148042, 27.568428, 2.434718, 0.947234, 3.844002, 16.655075, 1.598328, 0.215162, 22.590839, 2.382319, 3.796525, 2.217996, 11.134835, 4.371386, 5.192419, 0.282363, 1.664736, 3.440365, 4.079095, 6.462810, 4.385065, 6.430984, 4.476166, 21.211182, 1.630417, 10.109174, 2.460706, 1.453760, 2.543421, 1.117290, 10.970074, 4.537896, 10.397460, 12.099381, 37.967194, 12.283508, 12.142329, 4.809185, 3.314155, 22.830364, 12.120255, 7.409348, 0.137438, 1.285676, 5.948944, 6.013631, 4.859071, 2.626692, 6.426348, 3.628072, 2.697124, 3.994998, 0.099337, 15.159775, 9.646866, 0.002384, 0.878681, 17.722723, 0.462641, 2.926395, 0.148042, 27.475548, 2.344171, 0.991784, 3.844002, 16.588177, 1.598328, 0.182250, 22.590839, 2.382319, 4.260389, 2.217996, 10.994436, 3.891226, 5.675633, 0.357832, 1.664736, 3.440365, 4.186077, 5.921532, 4.058351, 6.430984, 4.476166, 21.211182, 1.630417, 10.109174, 2.460706, 1.315943, 2.543421, 1.117290, 10.547300, 4.160223, 10.397460, 12.099381, 40.296467, 14.121223, 13.304699, 5.177455, 3.722861, 22.830364, 10.254930, 6.777398, 0.121285, 1.285676, 5.609096, 6.013631, 4.738188, 2.595721, 6.491794, 4.039356, 2.743207, 3.899585, 0.099337, 15.159775, 10.543949, 0.002384, 0.812367, 17.324835, 0.408845, 2.753396, 0.148042, 27.739620, 2.357510, 0.901775, 3.748809, 16.234100, 1.598328, 0.204579, 22.507744, 2.382319, 4.165913, 2.331563, 10.652847, 4.187461, 5.181624, 0.329290, 1.664736, 3.440365, 4.036492, 6.002299, 4.143141, 5.744340, 4.728917, 21.211182, 1.630417, 10.109174, 2.250876, 1.431887, 2.543421, 1.117290, 11.022214, 4.498763, 10.397460, 12.099381, 41.780128, 13.143206, 13.701840, 4.313391, 3.344554, 22.830364, 11.862408, 7.132011, 0.148083, 1.207969, 5.710807, 6.013631, 4.402914, 2.598439, 6.484773, 4.124055, 2.588274, 4.053821, 0.099337, 15.159775, 10.316911, 3.844055, 4.886703, 8.030791, 5.284008, 4.676476, 5.757821, 50.860561, 7.054296, 3.702521, 6.547075, 5.725541, 0.522767, 3.539218, 10.059883, 12.622178, 6.207953, 6.197834, 2.174560, 4.125203, 7.624085, 3.019966, 10.876531, 0.016715, 6.588117, 11.124320, 13.536106, 17.178986, 6.996508, 6.918302, 0.510483, 1.450942, 6.533362, 2.103110, 12.983525, 9.421362, 3.081480, 8.944374, 27.351927, 30.092155, 20.858158, 5.976715, 18.138237, 12.004385, 3.426017, 46.093586, 18.950659, 3.266102, 3.869457, 7.044104, 1.936166, 0.228413, 7.469777, 7.629353, 9.661954, 11.693673, 2.539558, 4.533870, 5.413169, 3.703736, 21.762554, 4.091750, 4.596461, 35.256660, 3.598170, 9.619692, 2.552038, 12.741621, 5.526673, 5.935201, 8.204282, 34.715210, 10.485190, 4.791589, 42.009491, 0.208354, 9.998543, 5.927400, 27.179546, 12.779133, 11.478673, 5.512283, 0.506939, 14.638078, 9.266428, 8.872703, 2.717470, 3.272434, 10.284857, 43.261635, 10.560976, 26.533333, 6.014977, 8.099655, 0.168831, 0.882569, 26.086956, 9.350664, 1.474723, 2.156668, 64.686707, 27.733856, 16.512377, 4.428538, 11.160545, 7.673515, 13.051224, 18.656891, 4.342318, 3.226931, 17.361015, 19.579088, 9.179305, 6.306381, 9.123551, 4.533868, 10.863059, 11.193810, 2.775995, 34.441254, 7.445022, 0.010641, 3.274551, 72.237679, 1.585886, 11.905508, 0.597891, 104.614876, 9.370495, 3.699825, 13.256699, 69.283081, 6.410096, 0.776989, 88.092667, 9.475789, 16.444023, 9.693769, 44.007126, 17.174236, 19.055281, 1.308225, 6.606314, 13.766953, 16.928911, 23.853203, 15.924962, 23.334616, 17.963730, 84.940392, 6.532928, 40.431568, 8.771330, 5.529363, 10.115501, 4.439969, 42.661461, 16.651255, 41.458992, 48.263737, 157.505798, 55.785049, 52.667404, 21.833754, 12.904798, 91.249985, 42.805515, 26.608826, 0.524459, 5.082143, 23.707930, 24.078011, 19.192820, 11.847248, 27.531763, 15.824571, 11.417171, 16.914686, 0.386194, 60.801998, 39.092991, 0.015058, 3.222835, 78.551750, 1.773397, 12.591185, 0.562209, 101.667336, 9.427487, 3.996552, 13.548793, 69.871307, 6.729227, 0.960418, 90.543495, 9.060003, 16.390610, 8.925875, 45.394276, 19.999096, 22.311655, 1.396087, 6.308718, 14.358321, 14.547353, 23.257435, 15.967526, 21.517242, 16.089817, 88.219589, 6.848420, 42.051849, 9.292917, 6.019619, 9.686037, 4.236958, 48.115952, 16.595985, 39.816730, 46.388176, 168.219482, 55.986534, 50.829594, 19.031004, 14.677059, 87.873352, 48.544178, 29.666674, 0.540054, 4.585220, 24.593147, 25.063749, 19.361103, 10.718273, 24.495773, 14.158654, 11.750961, 16.283531, 0.361271, 63.186779, 38.575386, 0.002384, 0.747718, 17.184666, 0.429210, 2.848297, 0.148042, 27.739620, 2.234245, 0.907726, 3.715927, 17.168999, 1.598328, 0.194622, 21.950197, 2.382319, 3.731191, 2.377062, 10.811211, 4.348037, 5.014858, 0.329290, 1.664736, 3.440365, 4.070222, 6.217269, 4.057729, 5.631279, 4.125558, 21.211182, 1.630417, 10.109174, 2.196126, 1.479185, 2.543421, 1.117290, 11.102203, 4.719270, 10.397460, 12.099381, 38.617878, 12.558937, 13.844066, 4.763871, 3.202535, 22.830364, 13.279030, 7.359202, 0.126776, 1.233983, 5.757096, 6.013631, 4.564728, 2.779922, 6.365628, 3.817040, 2.684256, 4.168245, 0.099337, 15.159775, 10.316911, 0.002384, 0.862072, 16.430767, 0.429210, 2.848297, 0.148042, 26.475323, 2.304361, 0.933984, 3.326874, 17.168999, 1.598328, 0.177695, 21.950197, 2.382319, 3.697504, 2.377062, 11.134835, 4.426663, 5.176272, 0.329290, 1.664736, 3.440365, 4.319436, 5.731764, 3.827478, 5.982134, 4.465858, 21.211182, 1.630417, 10.109174, 2.196126, 1.479185, 2.543421, 1.117290, 10.987409, 4.718139, 10.397460, 12.099381, 39.420246, 13.241857, 13.910736, 5.552846, 3.645766, 22.830364, 11.728044, 7.394504, 0.133260, 1.233983, 5.918052, 6.013631, 4.548687, 2.937069, 6.231602, 3.974328, 2.751207, 4.299668, 0.099337, 15.159775, 10.370613, 0.002384, 0.819556, 16.985802, 0.424354, 2.603928, 0.148042, 28.786900, 2.234245, 0.925008, 3.385504, 15.668917, 1.598328, 0.220665, 21.950197, 2.382319, 4.031897, 2.377062, 11.174859, 4.472242, 5.522584, 0.357832, 1.664736, 3.440365, 4.270123, 5.973139, 4.103243, 5.481490, 4.539993, 21.211182, 1.630417, 10.109174, 2.196126, 1.321166, 2.543421, 1.117290, 11.679707, 4.620242, 10.397460, 12.099381, 40.501022, 13.673330, 12.952414, 4.750232, 2.838517, 22.830364, 11.758894, 7.167929, 0.126776, 1.233983, 5.701029, 6.013631, 4.757779, 2.708821, 6.462928, 3.953324, 2.757712, 4.362512, 0.099337, 15.159775, 9.865945, 0.002384, 0.850297, 17.586140, 0.424341, 2.982042, 0.148042, 27.988621, 2.225994, 0.956155, 3.294387, 15.308653, 1.598328, 0.194622, 22.264942, 2.382319, 3.949470, 2.279494, 10.865001, 4.348037, 4.970307, 0.329290, 1.664736, 3.440365, 4.176592, 5.925100, 4.187414, 5.919545, 4.658382, 21.211182, 1.630417, 10.109174, 2.246893, 1.450382, 2.543421, 1.117290, 10.944134, 4.838918, 10.397460, 12.099381, 40.147888, 11.977843, 11.940483, 4.995086, 2.954585, 22.830364, 12.847687, 6.782892, 0.131448, 1.272754, 5.554247, 6.013631, 4.700799, 2.930337, 6.367102, 3.986115, 3.073385, 3.952367, 0.099337, 15.159775, 9.597164, 0.002384, 0.826622, 18.201979, 0.456851, 2.896562, 0.148042, 27.459106, 2.434718, 0.993666, 3.300505, 16.010616, 1.598328, 0.178798, 22.590839, 2.382319, 3.920205, 2.217996, 10.602688, 4.190928, 5.200674, 0.339493, 1.664736, 3.440365, 4.155431, 5.811752, 4.544435, 6.111440, 4.620686, 21.211182, 1.630417, 10.109174, 2.460706, 1.416473, 2.543421, 1.117290, 11.044434, 4.413580, 10.397460, 12.099381, 37.502338, 13.985732, 12.247770, 4.736566, 3.142089, 22.830364, 11.300150, 7.757234, 0.137438, 1.285676, 6.077768, 6.013631, 4.762825, 2.830878, 6.744030, 4.037336, 2.813405, 4.264670, 0.099337, 15.159775, 9.913136, 0.002384, 0.849712, 18.190704, 0.456851, 2.896562, 0.148042, 26.799442, 2.344171, 0.979467, 3.364997, 16.010616, 1.598328, 0.185738, 22.590839, 2.382319, 3.982398, 2.217996, 10.865001, 4.769033, 5.413771, 0.339493, 1.664736, 3.440365, 3.752725, 5.902339, 4.367267, 5.358140, 4.335742, 21.211182, 1.630417, 10.109174, 2.460706, 1.416473, 2.543421, 1.117290, 10.982738, 4.759837, 10.397460, 12.099381, 39.130608, 14.481192, 12.882274, 5.474846, 3.520370, 22.830364, 11.376430, 7.303431, 0.121285, 1.285676, 5.778920, 6.013631, 4.650207, 2.832666, 6.127056, 3.847777, 2.740137, 4.033764, 0.099337, 15.159775, 10.160187, 0.002384, 0.874402, 17.559847, 0.374780, 3.343382, 0.148042, 27.475548, 2.225994, 0.919028, 3.542417, 16.168957, 1.598328, 0.220665, 22.264942, 2.382319, 3.766544, 2.279494, 10.736197, 4.472242, 5.368119, 0.357832, 1.664736, 3.440365, 4.300386, 5.874342, 4.147758, 5.949711, 4.448893, 21.211182, 1.630417, 10.109174, 2.246893, 1.423732, 2.543421, 1.117290, 10.891596, 4.797482, 10.397460, 12.099381, 39.450436, 12.401321, 14.112950, 4.867965, 3.690641, 22.830364, 10.663733, 7.389462, 0.131448, 1.272754, 5.434243, 6.013631, 4.703147, 2.936346, 6.071176, 4.058914, 2.715450, 3.966285, 0.099337, 15.159775, 10.543949, 0.002384, 0.954411, 16.985802, 0.438129, 3.218303, 0.148042, 27.459106, 2.304361, 0.924819, 3.385504, 16.250423, 1.598328, 0.186176, 21.950197, 2.382319, 4.169191, 2.377062, 10.673496, 4.821294, 4.604739, 0.339493, 1.664736, 3.440365, 3.983850, 6.267024, 4.132967, 5.481490, 4.539993, 21.211182, 1.630417, 10.109174, 2.196126, 1.476945, 2.543421, 1.117290, 11.322241, 4.122754, 10.397460, 12.099381, 39.015572, 13.218281, 12.828334, 4.718657, 3.128633, 22.830364, 11.946250, 7.216125, 0.133260, 1.233983, 5.992289, 6.013631, 4.859031, 2.743335, 6.617876, 4.093534, 2.803168, 3.652754, 0.099337, 15.159775, 9.913136, 0.002384, 0.740195, 16.430767, 0.424354, 2.603928, 0.148042, 26.502865, 2.282110, 0.893393, 3.326874, 15.668917, 1.598328, 0.182250, 21.950197, 2.382319, 4.480787, 2.377062, 10.669199, 3.891226, 5.188591, 0.357832, 1.664736, 3.440365, 3.942622, 6.213111, 4.045290, 5.982134, 4.465858, 21.211182, 1.630417, 10.109174, 2.196126, 1.321166, 2.543421, 1.117290, 11.223800, 4.158557, 10.397460, 12.099381, 39.626087, 12.839933, 12.668077, 4.894108, 3.322295, 22.830364, 11.651661, 7.742769, 0.146165, 1.233983, 5.726868, 6.013631, 4.880062, 2.732149, 5.992162, 4.195365, 2.474986, 4.097885, 0.099337, 15.159775, 10.187566, 0.002384, 0.964084, 18.357494, 0.374780, 3.343382, 0.148042, 26.502865, 2.313921, 0.909018, 3.170905, 16.168957, 1.598328, 0.185170, 22.264942, 2.382319, 4.422093, 2.279494, 10.827061, 4.291415, 4.688135, 0.357832, 1.664736, 3.440365, 3.899674, 6.023400, 4.182387, 5.135414, 4.532566, 21.211182, 1.630417, 10.109174, 2.246893, 1.423732, 2.543421, 1.117290, 10.747417, 4.566919, 10.397460, 12.099381, 38.032558, 12.853354, 13.998072, 4.880720, 3.389478, 22.830364, 12.035685, 6.702162, 0.144699, 1.272754, 5.686789, 6.013631, 4.747051, 2.703286, 6.881854, 3.565215, 2.728514, 4.258102, 0.099337, 15.159775, 10.187566, 0.002384, 0.778836, 17.324835, 0.432927, 2.998932, 0.148042, 27.682905, 2.328388, 0.962969, 3.748809, 16.685116, 1.598328, 0.178798, 22.507744, 2.382319, 4.301529, 2.331563, 10.827061, 4.190928, 5.376052, 0.339493, 1.664736, 3.440365, 3.859084, 5.976939, 4.298688, 5.744340, 4.728917, 21.211182, 1.630417, 10.109174, 2.250876, 1.347400, 2.543421, 1.117290, 11.152292, 4.413929, 10.397460, 12.099381, 38.908165, 13.421722, 14.034013, 4.904004, 3.150138, 22.830364, 11.897704, 7.690099, 0.130175, 1.207969, 5.383036, 6.013631, 5.177336, 2.592553, 7.061821, 4.211558, 2.759923, 4.253983, 0.099337, 15.159775, 10.177352, 0.002384, 0.893277, 17.778919, 0.408845, 2.753396, 0.148042, 27.988621, 2.302663, 0.946561, 3.367604, 16.234100, 1.598328, 0.177695, 22.507744, 2.382319, 4.174111, 2.331563, 10.994436, 4.426663, 5.056380, 0.329290, 1.664736, 3.440365, 3.839803, 5.982782, 3.793023, 5.604364, 4.505116, 21.211182, 1.630417, 10.109174, 2.250876, 1.431887, 2.543421, 1.117290, 10.604915, 4.458135, 10.397460, 12.099381, 38.788692, 11.669523, 14.012220, 5.007888, 3.451171, 22.830364, 11.096057, 6.938564, 0.144691, 1.207969, 5.466073, 6.013631, 4.732982, 2.555671, 6.192217, 3.710866, 2.845263, 4.070041, 0.099337, 15.159775, 9.597164, 0.242157, 9.436177, 7.488883, 9.415920, 4.086656, 0.702022, 2.069710, 17.659233, 6.657782, 2.053088, 0.070425, 0.014332, 1.320421, 0.263112, 0.444998, 3.185195, 1.113770, 1.746956, 1.897590, 1.187724, 6.234231, 2.922410, 4.463570, 3.483353, 2.940706, 0.885804, 3.083178, 4.942077, 4.473057, 23.204241, 3.234613, 1.417352, 0.006955, 4.976845, 2.369307, 49.358223, 12.780172, 2.552038, 2.255567, 0.699193, 60.205734, 0.005502, 0.193101, 33.504765, 1.357018, 2.982662, 3.501636, 49.437675, 13.106915, 30.751560, 0.000368, 7.053742, 5.855129, 0.478490, 10.515475, 3.257654, 32.445946, 8.373571, 12.730348, 6.791388, 13.555812, 48.689205, 30.319202, 15.042279, 7.309660, 8.715592, 12.007713, 8.483806, 5.321880, 11.796118, 16.140732, 2.775995, 2.593898, 14.349369, 0.679852, 2.745328, 9.740986, 23.317661, 11.195729, 9.573961, 7.639844, 16.458553, 16.016844, 7.253639, 7.651352, 7.989001, 8.748987, 15.151391, 6.146523, 95.613754, 40.229347, 20.783318, 2.409439, 4.586871, 1.728402, 5.301785, 13.860308, 6.855768, 5.223714, 0.777315, 3.958241, 26.757881, 12.481784, 4.398713, 0.533529, 0.966239, 3.069293, 1.049916, 0.110088, 4.216922, 4.175185, 0.099337, 0.138586, 3.522369, 2.379173, 0.831494, 3.673794, 8.141542, 3.861625, 1.934194, 2.808597, 6.241678, 6.281157, 17.291958, 2.935221, 1.668003, 0.969429, 6.299685, 1.614640, 61.154068, 19.176085, 6.631051, 0.324641, 0.027875, 0.666578, 15.029757, 3.060288, 15.085945, 6.422533, 2.628749, 1.648104, 11.205948, 2.482922, 1.459775, 1.615717, 1.055314, 1.704555, 1.437945, 2.798202, 4.178451, 0.004470, 5.413169, 5.666604, 0.673662, 11.962185, 6.984623, 6.617237, 0.774924, 3.965837, 1.930568, 5.416760, 5.128982, 3.422221, 32.772041, 5.759878, 3.351897, 1.041067, 5.196463, 5.058987, 35.020473, 8.321141, 0.371870, 6.158936, 3.390244, 7.601912, 34.281540, 0.053985, 28.929699, 14.894703, 12.957846, 7.122484, 3.483245, 0.338319, 6.759243, 10.760561, 9.169061, 8.595890, 9.808555, 13.551223, 12.046347, 3.768434, 18.774059, 19.277821, 5.562753, 30.608875, 21.321287, 17.248947, 1.247741, 12.144542, 10.038685, 16.079639, 11.830009, 8.591382, 59.231308, 17.271164, 12.566355, 9.147760, 12.100691, 16.586191, 19.063974, 5.160700, 1.941924, 20.078051, 14.822147, 2.238527, 79.483582, 70.192398, 85.365044, 43.958218, 6.234464, 16.970169, 169.834091, 62.383202, 17.487162, 0.568522, 0.105956, 12.924175, 2.285679, 3.771653, 26.354223, 10.529397, 14.957270, 16.222593, 10.412863, 53.864891, 24.608219, 35.883308, 32.735504, 28.414577, 8.969376, 29.978573, 43.258461, 37.214439, 201.537018, 28.597839, 12.347610, 0.056746, 45.350727, 19.674721, 448.745972, 124.637894, 24.028646, 18.862976, 5.969027, 0.253193, 9.018456, 7.832863, 9.552336, 5.221122, 0.670631, 1.669586, 19.178196, 6.857056, 2.076344, 0.060224, 0.015288, 1.428686, 0.232844, 0.416271, 3.338810, 1.175715, 1.655297, 1.801331, 1.185516, 6.021033, 2.849148, 4.181470, 3.667782, 3.027215, 0.895730, 2.907069, 5.591901, 4.234478, 21.086754, 3.097983, 1.467247, 0.006625, 5.528146, 2.072752, 50.471458, 14.040205, 2.686443, 2.117444, 0.657460, 2.200984, 79.787048, 67.560074, 89.709930, 41.664791, 6.494361, 15.342527, 160.692307, 59.302353, 18.205830, 0.606210, 0.104996, 11.028666, 2.250896, 3.960682, 26.832474, 10.072082, 15.596387, 16.917646, 9.212661, 56.743462, 26.626871, 39.198933, 31.456911, 29.840565, 8.714781, 28.580130, 44.876694, 37.749638, 212.288483, 30.386986, 13.274801, 0.058375, 50.525703, 20.468683, 426.924011, 116.143890, 23.066408, 20.435974, 6.227082, 0.242922, 9.302275, 7.488883, 9.607682, 4.972373, 0.720555, 2.007717, 18.067726, 6.477194, 2.214484, 0.070425, 0.013937, 1.322278, 0.203172, 0.444998, 3.113132, 1.113770, 1.746956, 1.897590, 1.081761, 6.398506, 2.732777, 4.259553, 3.483353, 2.940706, 0.868919, 2.928123, 4.943974, 4.602895, 23.725033, 3.215853, 1.527024, 0.006202, 5.059652, 2.409702, 47.988201, 12.999136, 2.552038, 2.255567, 0.699193, 0.235904, 9.113825, 7.488883, 9.864775, 4.785824, 0.755181, 1.812085, 17.327171, 6.537955, 1.982109, 0.070425, 0.011576, 1.303255, 0.228678, 0.444998, 3.113132, 1.113770, 1.746956, 1.897590, 1.081761, 6.398506, 2.845404, 4.356544, 3.483353, 2.976985, 0.928273, 3.015828, 5.087457, 4.199725, 23.520475, 3.264750, 1.523020, 0.006202, 5.271013, 2.326476, 49.044281, 13.520206, 2.552038, 2.271034, 0.699193, 0.251081, 9.604591, 7.488883, 9.552717, 4.550519, 0.686058, 1.819523, 18.256233, 6.535384, 2.061640, 0.070425, 0.013414, 1.419436, 0.226588, 0.444998, 3.265328, 1.113770, 1.746956, 1.897590, 1.205184, 6.267509, 3.048104, 4.242521, 3.483353, 2.976985, 0.934503, 3.230902, 4.415950, 4.030630, 23.860487, 3.496969, 1.438527, 0.006791, 5.095836, 2.296718, 47.838478, 13.654116, 2.552038, 2.271034, 0.699193, 0.255906, 8.933338, 7.488883, 9.798723, 5.107758, 0.782622, 1.790548, 17.188580, 6.657782, 1.944312, 0.070425, 0.014332, 1.406320, 0.221966, 0.444998, 3.352570, 1.113770, 1.746956, 1.897590, 1.137802, 6.234231, 2.885778, 4.382853, 3.483353, 2.976985, 0.913429, 2.924633, 4.752142, 4.222633, 23.900982, 3.655522, 1.575162, 0.006508, 4.959884, 2.419415, 46.791378, 12.884644, 2.552038, 2.271034, 0.699193, 0.251081, 9.266516, 7.488883, 10.842999, 4.350004, 0.686058, 1.863611, 17.327171, 6.528416, 2.102247, 0.070425, 0.013414, 1.313592, 0.267374, 0.444998, 3.183698, 1.113770, 1.746956, 1.897590, 0.941946, 6.234231, 3.038473, 4.938697, 3.483353, 2.976985, 0.934181, 3.367933, 5.031678, 4.396398, 24.860439, 3.140741, 1.715098, 0.006791, 5.230622, 2.296718, 47.160942, 13.026550, 2.552038, 2.271034, 0.699193, 0.223759, 9.094604, 7.488883, 9.593047, 5.139197, 0.646837, 1.910960, 17.335676, 6.528416, 1.933155, 0.070425, 0.013414, 1.280331, 0.255162, 0.444998, 3.185195, 1.113770, 1.746956, 1.897590, 1.187724, 6.234231, 2.953410, 4.281881, 3.483353, 3.131481, 1.066058, 2.535295, 5.078942, 4.397023, 23.812008, 3.651039, 1.505055, 0.006955, 4.609969, 2.519610, 45.757462, 13.598437, 2.552038, 2.255675, 0.699193, 0.249989, 9.551497, 7.488883, 9.439501, 4.942507, 0.759623, 1.630949, 18.694117, 6.505579, 1.901521, 0.070425, 0.013630, 1.319829, 0.239790, 0.444998, 3.363373, 1.113770, 1.746956, 1.897590, 1.032352, 6.225310, 2.997008, 4.518059, 3.483353, 3.131481, 0.942229, 3.238127, 4.660495, 4.234017, 24.949463, 3.408190, 1.593105, 0.006508, 5.337693, 2.164801, 47.276611, 13.285277, 2.552038, 2.255675, 0.699193, 0.269584, 9.414630, 7.488883, 10.591488, 4.656813, 0.725630, 1.763077, 17.264114, 6.463685, 1.846467, 0.070425, 0.012133, 1.291563, 0.238159, 0.444998, 3.265328, 1.113770, 1.746956, 1.897590, 1.205184, 6.267509, 3.085357, 4.173670, 3.483353, 3.052672, 1.007318, 2.865880, 4.879617, 4.350875, 22.976133, 3.372779, 1.536237, 0.006791, 5.193572, 2.186501, 49.212574, 13.083155, 2.552038, 2.253522, 0.699193, 0.255906, 9.163844, 7.488883, 10.091528, 4.592862, 0.782622, 1.850009, 18.256233, 6.506424, 2.127179, 0.070425, 0.014332, 1.380174, 0.239790, 0.444998, 2.969880, 1.113770, 1.746956, 1.897590, 1.082477, 6.398506, 2.997008, 4.774694, 3.483353, 2.976985, 1.022952, 3.523103, 4.837914, 3.508702, 24.699520, 3.249109, 1.493491, 0.006508, 5.050663, 2.419415, 47.688019, 13.272043, 2.552038, 2.271034, 0.699193, 0.235904, 9.883833, 7.488883, 10.349802, 4.809737, 0.755181, 1.994714, 17.188580, 6.507726, 1.882390, 0.070425, 0.011576, 1.336669, 0.239712, 0.444998, 2.939412, 1.113770, 1.746956, 1.897590, 1.135662, 6.267509, 2.729099, 3.936766, 3.483353, 2.976985, 0.972858, 2.959580, 4.607431, 4.555726, 23.445841, 3.290166, 1.630229, 0.006202, 4.810971, 2.326476, 46.631714, 12.953703, 2.552038, 2.271034, 0.699193, 0.242922, 9.472148, 7.488883, 9.752569, 4.750703, 0.720555, 1.736701, 17.659233, 6.572093, 1.947806, 0.070425, 0.013937, 1.249074, 0.239712, 0.444998, 2.978852, 1.113770, 1.746956, 1.897590, 1.051964, 6.225310, 2.729099, 4.372046, 3.483353, 2.940706, 0.960056, 3.048690, 4.526784, 4.532410, 22.640362, 3.090889, 1.449228, 0.006202, 5.474395, 2.409702, 47.388695, 13.471426, 2.552038, 2.255567, 0.699193, 0.233934, 8.596317, 7.488883, 10.273802, 4.360883, 0.776085, 1.855865, 17.264114, 6.477194, 1.807069, 0.070425, 0.013937, 1.432348, 0.213548, 0.444998, 2.969880, 1.113770, 1.746956, 1.897590, 1.082477, 6.398506, 2.930300, 4.374724, 3.483353, 3.052672, 0.972636, 3.059977, 5.037495, 4.195186, 22.738405, 3.185875, 1.509436, 0.006508, 5.104732, 2.336254, 48.199619, 13.053395, 2.552038, 2.253522, 0.699193, 3.123108, 24.178471, 0.582457, 19.744392, 9.124621, 6.588460, 3.433651, 6.632538, 0.474092, 3.058318, 5.170655, 4.087916, 4.056164, 4.551803, 7.167962, 6.815542, 0.878981, 11.099237, 11.448405, 2.156538, 20.147087, 12.893209, 10.752248, 0.012001, 7.059881, 5.118128, 9.849531, 6.965616, 4.879196, 45.469849, 11.140057, 6.868098, 4.064539, 7.099424, 10.007905, 24.717987, 5.841749, 0.148042, 12.251025, 8.095034, 5.231758, 3.479270, 22.195278, 7.305096, 8.081680, 2.822158, 7.845231, 36.923725, 20.758160, 8.833671, 2.954636, 3.907371, 6.567548, 3.744013, 1.746348, 6.765943, 9.174159, 0.460633, 0.393072, 7.896359, 0.550536, 0.814674, 6.006025, 14.742736, 6.619069, 4.786454, 4.227498, 11.031776, 10.747910, 10.500688, 4.254580, 3.598361, 3.882995, 9.956813, 2.940930, 77.205246, 28.785133, 12.755549, 0.421842, 1.332694, 0.913128, 37.484612, 29.997955, 37.597660, 18.591969, 2.565279, 6.547929, 66.514549, 26.020475, 7.811241, 0.271188, 0.054956, 5.409690, 0.954378, 1.771462, 13.359531, 4.475478, 6.930245, 7.539278, 4.391891, 25.164192, 11.801928, 17.077023, 13.949217, 12.525280, 4.216791, 12.056234, 20.774101, 18.747040, 96.556061, 14.096184, 6.571708, 0.025905, 20.903881, 9.436573, 186.374603, 52.007084, 10.238764, 8.860658, 2.784542, 1.024695, 35.285912, 31.255241, 39.111233, 19.224987, 2.773871, 7.143444, 74.814308, 27.304077, 8.321123, 0.250379, 0.056684, 5.520258, 0.752768, 1.674462, 11.893191, 4.698791, 6.631051, 7.207125, 4.926934, 24.043243, 11.049860, 16.674620, 14.584782, 11.819771, 3.704306, 13.108869, 18.839422, 16.195883, 91.481239, 13.751444, 5.619649, 0.025120, 21.000355, 9.020390, 194.984360, 55.300247, 10.689516, 8.496086, 2.642359, 0.224977, 8.442678, 7.488883, 9.357542, 4.821389, 0.718553, 1.978136, 17.768145, 6.537955, 1.928403, 0.070425, 0.011576, 1.417022, 0.255162, 0.444998, 3.289591, 1.113770, 1.746956, 1.897590, 1.113076, 6.398506, 2.953410, 4.291112, 3.483353, 3.052672, 0.918091, 3.430984, 4.540776, 4.026076, 23.220154, 3.158913, 1.400871, 0.006955, 5.046865, 2.304530, 48.214031, 12.843153, 2.552038, 2.253522, 0.699193, 0.224977, 9.765430, 7.488883, 9.514745, 4.764816, 0.718553, 1.811255, 18.275059, 6.507726, 1.918362, 0.070425, 0.011576, 1.235497, 0.263112, 0.444998, 3.246993, 1.113770, 1.746956, 1.897590, 1.078644, 6.267509, 2.922410, 4.647694, 3.483353, 3.052672, 0.938211, 2.708573, 4.817239, 4.130899, 24.382282, 3.497102, 1.428374, 0.006955, 5.435763, 2.304530, 48.099354, 13.391747, 2.552038, 2.253522, 0.699193, 0.242157, 8.837726, 7.488883, 10.110256, 5.029531, 0.702022, 1.735832, 17.497963, 6.506424, 2.041988, 0.070425, 0.014332, 1.315766, 0.188868, 0.444998, 3.289591, 1.113770, 1.746956, 1.897590, 1.113076, 6.398506, 2.932826, 4.206589, 3.483353, 2.940706, 0.975669, 2.811708, 4.488735, 3.988812, 24.403198, 3.113390, 1.504995, 0.006955, 5.718084, 2.369307, 46.903130, 13.122866, 2.552038, 2.255567, 0.699193, 0.269584, 9.688784, 7.488883, 10.079611, 4.821017, 0.725630, 1.763068, 17.768145, 6.694485, 2.073845, 0.070425, 0.012133, 1.290372, 0.267374, 0.444998, 3.024930, 1.113770, 1.746956, 1.897590, 1.038931, 6.225310, 3.038473, 3.991033, 3.483353, 3.052672, 0.827609, 3.083331, 4.981959, 3.466902, 22.958286, 3.327076, 1.505364, 0.006791, 5.370845, 2.186501, 45.693958, 13.084356, 2.552038, 2.253522, 0.699193, 0.243130, 9.060813, 7.488883, 9.697398, 4.902238, 0.814108, 1.661467, 17.400551, 6.463685, 2.021446, 0.070425, 0.012133, 1.358680, 0.203172, 0.444998, 2.939412, 1.113770, 1.746956, 1.897590, 1.135662, 6.267509, 2.732777, 4.920550, 3.483353, 3.131481, 0.960600, 2.613379, 4.857340, 3.606628, 23.906549, 3.496166, 1.613101, 0.006202, 5.823172, 2.372807, 48.163109, 12.655511, 2.552038, 2.255675, 0.699193, 0.243130, 9.512419, 7.488883, 9.352341, 4.752484, 0.814108, 1.870862, 17.335676, 6.694485, 2.027087, 0.070425, 0.012133, 1.280941, 0.228678, 0.444998, 2.978852, 1.113770, 1.746956, 1.897590, 1.051964, 6.225310, 2.845404, 3.969894, 3.483353, 3.131481, 1.038119, 3.326459, 4.477951, 4.014749, 23.254263, 3.315436, 1.544646, 0.006202, 4.926301, 2.372807, 46.860706, 12.924791, 2.552038, 2.255675, 0.699193, 0.225359, 8.859590, 7.488883, 10.196056, 5.023349, 0.692538, 2.064846, 17.497963, 6.505579, 1.967298, 0.070425, 0.013630, 1.383609, 0.226588, 0.444998, 3.024930, 1.113770, 1.746956, 1.897590, 1.038931, 6.225310, 3.048104, 4.497043, 3.483353, 2.940706, 1.059558, 3.166773, 4.838360, 4.172067, 22.918482, 3.365327, 1.588799, 0.006791, 5.012053, 2.355252, 49.124886, 13.543518, 2.552038, 2.255567, 0.699193, 0.223759, 9.791891, 7.488883, 9.732524, 4.653323, 0.646837, 1.742295, 18.694117, 6.535384, 1.902813, 0.070425, 0.013414, 1.375678, 0.188868, 0.444998, 3.246993, 1.113770, 1.746956, 1.897590, 1.078644, 6.267509, 2.932826, 4.229630, 3.483353, 3.131481, 1.044747, 3.360080, 4.261318, 3.912109, 24.904818, 3.346546, 1.552019, 0.006955, 5.589631, 2.519610, 46.595680, 13.755239, 2.552038, 2.255675, 0.699193, 0.242157, 9.436177, 7.488883, 9.415920, 4.086656, 0.702022, 2.069710, 17.659233, 6.657782, 2.053088, 0.070425, 0.014332, 1.320421, 0.263112, 0.444998, 3.185195, 1.113770, 1.746956, 1.897590, 1.187724, 6.234231, 2.922410, 4.463570, 3.483353, 2.940706, 0.885804, 3.083178, 4.942077, 4.473057, 23.204241, 3.234613, 1.417352, 0.006955, 4.976845, 2.369307, 49.358223, 12.780172, 2.552038, 2.255567, 0.699193, 0.225359, 8.944220, 7.488883, 9.314532, 4.579214, 0.692538, 1.665538, 18.067726, 6.600802, 2.243164, 0.070425, 0.013630, 1.369017, 0.238159, 0.444998, 3.183698, 1.113770, 1.746956, 1.897590, 0.941946, 6.234231, 3.085357, 4.328819, 3.483353, 2.940706, 0.896224, 3.111473, 4.666368, 4.320021, 22.593914, 3.540193, 1.442977, 0.006791, 4.854957, 2.355252, 48.081081, 13.300570, 2.552038, 2.255567, 0.699193, 0.249989, 9.597984, 7.488883, 9.418801, 4.582971, 0.759623, 1.557440, 17.400551, 6.600802, 1.945978, 0.070425, 0.013630, 1.300827, 0.213548, 0.444998, 3.352570, 1.113770, 1.746956, 1.897590, 1.137802, 6.234231, 2.930300, 4.583286, 3.483353, 3.131481, 0.847265, 2.917138, 4.572375, 4.575150, 22.911463, 3.284490, 1.476685, 0.006508, 5.367920, 2.164801, 48.088871, 13.048901, 2.552038, 2.255675, 0.699193, 0.233934, 9.032106, 7.488883, 10.196316, 4.889840, 0.776085, 1.872720, 18.275059, 6.572093, 2.049329, 0.070425, 0.013937, 1.302324, 0.221966, 0.444998, 3.363373, 1.113770, 1.746956, 1.897590, 1.032352, 6.225310, 2.885778, 3.875055, 3.483353, 3.052672, 0.989471, 3.009426, 4.771991, 4.315565, 23.650314, 3.168571, 1.406026, 0.006508, 5.182915, 2.336254, 49.654667, 13.053003, 2.552038, 2.253522, 0.699193, 0.686672, 0.695941, 0.695858, 0.692967, 0.694041, 0.691388, 28.312948, 5.854970, 4.582590, 4.438117, 5.166528, 33.329811, 4.368706, 31.145287, 4.251431, 4.051649, 4.014418, 4.213096, 4.025832, 4.177437, 3.959033, 3.994341, 4.065113, 3.933196, 3.974427, 3.910652, 4.281042, 4.950077, 14.027501, 13.685796, 3.955987, 4.026362, 4.319278, 4.019678, 4.131792, 4.042055, 3.857749, 4.273777, 4.192938, 3.913080, 4.228086, 3.891112\n",
            "\n"
          ],
          "name": "stdout"
        }
      ]
    },
    {
      "cell_type": "code",
      "metadata": {
        "id": "9gGTRpUhxv0_"
      },
      "source": [
        ""
      ],
      "execution_count": null,
      "outputs": []
    }
  ]
}